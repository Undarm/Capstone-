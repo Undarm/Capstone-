{
    "cells": [
        {
            "cell_type": "markdown",
            "metadata": {
                "collapsed": true
            },
            "source": "## San Francisco Average Housing Price, Schools and Venues Data Analysis by Neighborhoods ##"
        },
        {
            "cell_type": "markdown",
            "metadata": {},
            "source": "# Introduction"
        },
        {
            "cell_type": "markdown",
            "metadata": {},
            "source": "San Francisco is considered by many to be the cultural and industrial hub of Northern California. Although the city covers \nonly 46.9 square miles, it's home to nearly 882,000 residents, making it the 16th largest metropolitan statistical area and\none of the highest per-capita incomes in the United States, which makes it a very popular area for investors.\n\nStarting in March 2020, economic volatility and shelter-in-place orders caused home sales volume to decline. Housing demand \nin San Francisco has experienced some ups and downs amid the coronavirus pandemic. Though housing prices in San \nFrancisco are much higher than the national average, they are also currently following a nationwide trend. Low mortgage \nrates and a large influx of buyers are behind a surge in demand, which has caused housing prices to rise over the last year.\n\nBusiness Problem: San Francisco has been hit harder by the pandemic than many other cities, small business closures, outmigration and unemployment. \nIt changed neigberhood business information and maybe start creating new venues to neighberhoods when start rolling to new normal. \nAs businesses begin to reopen in San Francisco, at some point, a lot of people are going to be returning to work and schools \nstarting in person classes. \n\nThis project aims to find the best suitable neigborhood with venues and schools in San Francisco, by using data analysis \nand machine learning. This data analysis can be useful to realtors, homebuyers, city managers and to people who are planning to open\nsmall business. \n"
        },
        {
            "cell_type": "markdown",
            "metadata": {},
            "source": "# Data"
        },
        {
            "cell_type": "markdown",
            "metadata": {},
            "source": "To solve the problem, we need the following data:\n    \n    1. list of Neighborhoods in San Francisco, California\n       http://www.healthysf.org/bdi/outcomes/zipmap.htm to get neigborhood and zip code data.\n    \n    2. Latitude and Longitude of the Neigborhoods:\n       I used Geocoder to get center coordinates of the neigborhoods.\n    \n    3. Venues Data:\n       Foursquare API for most common venues in San Francisco.\n    \n    4. Schools information:\n       https://data.sfgov.org/Economy-and-Community/Schools/tpp3-epx2/data to get number of school information for each \n       neighborhood. \n    \n    5. Average housing price:\n       https://www.bayareamarketreports.com/trend/san-francisco-neighborhood-map to get Neighborhood Average home price "
        },
        {
            "cell_type": "code",
            "execution_count": null,
            "metadata": {},
            "outputs": [],
            "source": ""
        }
    ],
    "metadata": {
        "kernelspec": {
            "display_name": "Python 3.7",
            "language": "python",
            "name": "python3"
        },
        "language_info": {
            "codemirror_mode": {
                "name": "ipython",
                "version": 3
            },
            "file_extension": ".py",
            "mimetype": "text/x-python",
            "name": "python",
            "nbconvert_exporter": "python",
            "pygments_lexer": "ipython3",
            "version": "3.7.10"
        }
    },
    "nbformat": 4,
    "nbformat_minor": 1
}